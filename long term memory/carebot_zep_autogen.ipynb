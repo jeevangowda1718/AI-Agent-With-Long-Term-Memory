{
 "cells": [
  {
   "cell_type": "markdown",
   "id": "3debffec",
   "metadata": {},
   "source": [
    "# 🤖 CareBot with Zep + AutoGen\n",
    "This notebook demonstrates how to build a compassionate mental health bot with memory using Microsoft AutoGen and Zep."
   ]
  },
  {
   "cell_type": "markdown",
   "id": "0638ec4b",
   "metadata": {},
   "source": [
    "### 📦 Step 1: Install dependencies\n",
    "Run this in a terminal before running the notebook:"
   ]
  },
  {
   "cell_type": "code",
   "execution_count": null,
   "id": "7d41482f",
   "metadata": {},
   "outputs": [],
   "source": [
    "!pip install autogen~=0.3 zep-cloud python-dotenv"
   ]
  },
  {
   "cell_type": "markdown",
   "id": "61b11995",
   "metadata": {},
   "source": [
    "### 🔐 Step 2: Setup API Keys\n",
    "Create a `.env` file in the same folder with:\n",
    "```env\n",
    "OPENAI_API_KEY=your_openai_key\n",
    "ZEP_API_KEY=your_zep_key\n",
    "```"
   ]
  },
  {
   "cell_type": "code",
   "execution_count": null,
   "id": "d0c245a9",
   "metadata": {},
   "outputs": [],
   "source": [
    "import os\n",
    "import uuid\n",
    "import asyncio\n",
    "from dotenv import load_dotenv\n",
    "\n",
    "load_dotenv()\n",
    "OPENAI_API_KEY = os.getenv(\"OPENAI_API_KEY\")\n",
    "ZEP_API_KEY = os.getenv(\"ZEP_API_KEY\")\n",
    "\n",
    "config_list = [{\n",
    "    \"model\": \"gpt-4o\",\n",
    "    \"api_key\": OPENAI_API_KEY,\n",
    "    \"base_url\": \"https://api.openai.com/v1\"\n",
    "}]\n"
   ]
  },
  {
   "cell_type": "code",
   "execution_count": null,
   "id": "4da89636",
   "metadata": {},
   "outputs": [],
   "source": [
    "carebot_system_message = \"\"\"\n",
    "You are a compassionate mental health bot and caregiver. Review information about the user and their prior conversation below and respond accordingly.\n",
    "Keep responses empathetic and supportive. And remember, always prioritize the user's well-being and mental health. Keep your responses very concise and to the point.\n",
    "\"\"\""
   ]
  },
  {
   "cell_type": "code",
   "execution_count": null,
   "id": "5d2cbd8d",
   "metadata": {},
   "outputs": [],
   "source": [
    "from autogen import ConversableAgent\n",
    "from zep_cloud.client import AsyncZep\n",
    "from zep_cloud import Message\n",
    "\n",
    "class ZepConversableAgent(ConversableAgent):\n",
    "    def __init__(self, name, zep_memory, zep_session_id, *args, **kwargs):\n",
    "        super().__init__(name, *args, **kwargs)\n",
    "        self.zep_memory = zep_memory\n",
    "        self.zep_session_id = zep_session_id\n",
    "\n",
    "    async def generate_reply(self, messages, sender, config=None):\n",
    "        for message in messages:\n",
    "            role = \"user\" if message[\"role\"] == \"user\" else \"assistant\"\n",
    "            await self.zep_memory.add_memory(\n",
    "                session_id=self.zep_session_id,\n",
    "                message=Message(role=role, content=message[\"content\"])\n",
    "            )\n",
    "        memory = await self.zep_memory.search_memory(\n",
    "            session_id=self.zep_session_id,\n",
    "            text=messages[-1][\"content\"],\n",
    "            metadata={\"agent\": self.name}\n",
    "        )\n",
    "        memory_text = \"\\n\".join([m.content for m in memory]) if memory else \"\"\n",
    "        if memory_text:\n",
    "            self.system_message += f\"\\n\\nRelevant memory:\\n{memory_text}\"\n",
    "        return await super().generate_reply(messages, sender, config)\n"
   ]
  },
  {
   "cell_type": "code",
   "execution_count": null,
   "id": "601b0f9f",
   "metadata": {},
   "outputs": [],
   "source": [
    "zep = AsyncZep(api_key=ZEP_API_KEY)\n",
    "session_id = str(uuid.uuid4())\n",
    "bot_name = \"CareBot\"\n",
    "\n",
    "agent = ZepConversableAgent(\n",
    "    bot_name,\n",
    "    zep_memory=zep,\n",
    "    zep_session_id=session_id,\n",
    "    system_message=carebot_system_message,\n",
    "    llm_config={\"config_list\": config_list},\n",
    "    function_map=None,\n",
    "    human_input_mode=\"NEVER\",\n",
    ")\n"
   ]
  },
  {
   "cell_type": "code",
   "execution_count": null,
   "id": "7ad856d0",
   "metadata": {},
   "outputs": [],
   "source": [
    "messages = [{\"role\": \"user\", \"content\": \"I’m feeling very anxious today and can’t focus on anything.\"}]\n",
    "\n",
    "async def run_agent():\n",
    "    reply = await agent.generate_reply(messages, sender=\"User\")\n",
    "    print(\"CareBot reply:\", reply)\n",
    "\n",
    "await run_agent()"
   ]
  }
 ],
 "metadata": {},
 "nbformat": 4,
 "nbformat_minor": 5
}